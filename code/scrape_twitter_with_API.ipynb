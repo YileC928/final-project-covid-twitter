{
 "cells": [
  {
   "cell_type": "markdown",
   "metadata": {},
   "source": [
    "Reference:\n",
    "- Tweepy Doc: https://docs.tweepy.org/en/latest/\n",
    "- Cursor Tutorial: https://docs.tweepy.org/en/latest/cursor_tutorial.html?highlight=cursor#cursor-tutorial\n",
    "- User Timeline Tutorial: https://docs.tweepy.org/en/latest/api.html#API.user_timeline\n",
    "- API setting: https://www.youtube.com/watch?v=dvAurfBB6Jk\n",
    "- Functions: https://py.plainenglish.io/scraping-tweets-with-tweepy-python-59413046e788\n",
    "- Scraping codes: https://towardsdatascience.com/how-to-scrape-tweets-from-twitter-59287e20f0f1\n"
   ]
  },
  {
   "cell_type": "code",
   "execution_count": 25,
   "metadata": {},
   "outputs": [],
   "source": [
    "from tweepy import OAuthHandler\n",
    "import tweepy\n",
    "import webbrowser\n",
    "import json\n",
    "import pandas as pd\n",
    "import csv\n",
    "import re\n",
    "import string\n",
    "# import preprocessor as p\n",
    "import os\n",
    "import time"
   ]
  },
  {
   "cell_type": "code",
   "execution_count": 2,
   "metadata": {},
   "outputs": [],
   "source": [
    "# for privacy issue, API key is in json file (which is in .gitignore)\n",
    "with open('Twitter_API_info.json') as f:\n",
    "    api_info = json.load(f)\n",
    "    f.close()"
   ]
  },
  {
   "cell_type": "code",
   "execution_count": 3,
   "metadata": {},
   "outputs": [],
   "source": [
    "access_token = api_info['access_token']\n",
    "access_token_secret = api_info['access_token_secret']\n",
    "API_key = api_info['API_key']\n",
    "API_key_secret = api_info['API_key_secret']"
   ]
  },
  {
   "cell_type": "code",
   "execution_count": 4,
   "metadata": {},
   "outputs": [],
   "source": [
    "callback_uri = 'oob' # https://cfe.sh/twitter/callback"
   ]
  },
  {
   "cell_type": "code",
   "execution_count": 8,
   "metadata": {},
   "outputs": [
    {
     "name": "stdout",
     "output_type": "stream",
     "text": [
      "https://api.twitter.com/oauth/authorize?oauth_token=k9DXOgAAAAABCxGzAAABd8zQmn8\n"
     ]
    }
   ],
   "source": [
    "auth = tweepy.OAuthHandler(API_key, API_key_secret, callback_uri)\n",
    "redirect_url = auth.get_authorization_url()\n",
    "print(redirect_url)"
   ]
  },
  {
   "cell_type": "code",
   "execution_count": 9,
   "metadata": {},
   "outputs": [
    {
     "data": {
      "text/plain": [
       "True"
      ]
     },
     "execution_count": 9,
     "metadata": {},
     "output_type": "execute_result"
    }
   ],
   "source": [
    "webbrowser.open(redirect_url)"
   ]
  },
  {
   "cell_type": "code",
   "execution_count": 10,
   "metadata": {},
   "outputs": [
    {
     "name": "stdout",
     "output_type": "stream",
     "text": [
      "What's the pin value? 0562047\n"
     ]
    }
   ],
   "source": [
    "user_pin_input = input(\"What's the pin value? \")"
   ]
  },
  {
   "cell_type": "code",
   "execution_count": 11,
   "metadata": {},
   "outputs": [
    {
     "data": {
      "text/plain": [
       "'0562047'"
      ]
     },
     "execution_count": 11,
     "metadata": {},
     "output_type": "execute_result"
    }
   ],
   "source": [
    "user_pin_input"
   ]
  },
  {
   "cell_type": "code",
   "execution_count": 12,
   "metadata": {},
   "outputs": [
    {
     "data": {
      "text/plain": [
       "('1065561575598231553-GV8Q9reqL24p0d84nIdcvB85IuyYj5',\n",
       " 'A514L7kjPoAHC4I2fPWt8RY8iml1mHhy0AJZDNrE2wHXh')"
      ]
     },
     "execution_count": 12,
     "metadata": {},
     "output_type": "execute_result"
    }
   ],
   "source": [
    "auth.get_access_token(user_pin_input)"
   ]
  },
  {
   "cell_type": "code",
   "execution_count": 13,
   "metadata": {},
   "outputs": [],
   "source": [
    "api = tweepy.API(auth, wait_on_rate_limit=True)"
   ]
  },
  {
   "cell_type": "code",
   "execution_count": 14,
   "metadata": {},
   "outputs": [
    {
     "name": "stdout",
     "output_type": "stream",
     "text": [
      "JinfeiZhu\n"
     ]
    }
   ],
   "source": [
    "me = api.me()\n",
    "print(me.screen_name)"
   ]
  },
  {
   "cell_type": "code",
   "execution_count": 16,
   "metadata": {},
   "outputs": [
    {
     "data": {
      "text/plain": [
       "'Jinfei Zhu'"
      ]
     },
     "execution_count": 16,
     "metadata": {},
     "output_type": "execute_result"
    }
   ],
   "source": [
    "me.name"
   ]
  },
  {
   "cell_type": "code",
   "execution_count": 28,
   "metadata": {},
   "outputs": [],
   "source": [
    "def scraptweets(search_words, date_since, numTweets, numRuns):\n",
    "    \n",
    "    # Define a for-loop to generate tweets at regular intervals\n",
    "    # We cannot make large API call in one go. Hence, let's try T times\n",
    "    \n",
    "    # Define a pandas dataframe to store the date:\n",
    "    db_tweets = pd.DataFrame(columns = ['username', 'acctdesc', 'location', 'following',\n",
    "                                        'followers', 'totaltweets', 'usercreatedts', 'tweetcreatedts',\n",
    "                                        'retweetcount', 'text', 'hashtags']\n",
    "                                )\n",
    "    program_start = time.time()\n",
    "    for i in range(0, numRuns):\n",
    "        # We will time how long it takes to scrape tweets for each run:\n",
    "        start_run = time.time()\n",
    "        \n",
    "        # Collect tweets using the Cursor object\n",
    "        # .Cursor() returns an object that you can iterate or loop over to access the data collected.\n",
    "        # Each item in the iterator has various attributes that you can access to get information about each tweet\n",
    "        tweets = tweepy.Cursor(api.search, q=search_words, lang=\"en\", since=date_since, tweet_mode='extended').items(numTweets)# Store these tweets into a python list\n",
    "        tweet_list = [tweet for tweet in tweets]# Obtain the following info (methods to call them out):\n",
    "        # user.screen_name - twitter handle\n",
    "        # user.description - description of account\n",
    "        # user.location - where is he tweeting from\n",
    "        # user.friends_count - no. of other users that user is following (following)\n",
    "        # user.followers_count - no. of other users who are following this user (followers)\n",
    "        # user.statuses_count - total tweets by user\n",
    "        # user.created_at - when the user account was created\n",
    "        # created_at - when the tweet was created\n",
    "        # retweet_count - no. of retweets\n",
    "        # (deprecated) user.favourites_count - probably total no. of tweets that is favourited by user\n",
    "        # retweeted_status.full_text - full text of the tweet\n",
    "        # tweet.entities['hashtags'] - hashtags in the tweet# Begin scraping the tweets individually:\n",
    "        noTweets = 0\n",
    "        for tweet in tweet_list:# Pull the values\n",
    "            username = tweet.user.screen_name\n",
    "            acctdesc = tweet.user.description\n",
    "            location = tweet.user.location\n",
    "            following = tweet.user.friends_count\n",
    "            followers = tweet.user.followers_count\n",
    "            totaltweets = tweet.user.statuses_count\n",
    "            usercreatedts = tweet.user.created_at\n",
    "            tweetcreatedts = tweet.created_at\n",
    "            retweetcount = tweet.retweet_count\n",
    "            hashtags = tweet.entities['hashtags']\n",
    "            try:\n",
    "                text = tweet.retweeted_status.full_text\n",
    "            except AttributeError:  # Not a Retweet\n",
    "                text = tweet.full_text# Add the 11 variables to the empty list - ith_tweet:\n",
    "            ith_tweet = [username, acctdesc, location, following, followers, totaltweets,\n",
    "                         usercreatedts, tweetcreatedts, retweetcount, text, hashtags]# Append to dataframe - db_tweets\n",
    "            db_tweets.loc[len(db_tweets)] = ith_tweet# increase counter - noTweets  \n",
    "            noTweets += 1\n",
    "        \n",
    "        # Run ended:\n",
    "        end_run = time.time()\n",
    "        duration_run = round((end_run-start_run)/60, 2)\n",
    "        \n",
    "        print('no. of tweets scraped for run {} is {}'.format(i + 1, noTweets))\n",
    "        print('time take for {} run to complete is {} mins'.format(i+1, duration_run))\n",
    "        \n",
    "        time.sleep(920) #15 minute sleep time# Once all runs have completed, save them to a single csv file:\n",
    "    from datetime import datetime\n",
    "    \n",
    "    # Obtain timestamp in a readable format\n",
    "    to_csv_timestamp = datetime.today().strftime('%Y%m%d_%H%M%S')# Define working path and filename\n",
    "    path = os.getcwd()\n",
    "    filename = path + '/data/' + to_csv_timestamp + '_sahkprotests_tweets.csv'# Store dataframe in csv with creation date timestamp\n",
    "    db_tweets.to_csv(filename, index = False)\n",
    "    \n",
    "    program_end = time.time()\n",
    "    print('Scraping has completed!')\n",
    "    print('Total time taken to scrap is {} minutes.'.format(round(program_end - program_start)/60, 2))"
   ]
  },
  {
   "cell_type": "code",
   "execution_count": null,
   "metadata": {},
   "outputs": [
    {
     "name": "stderr",
     "output_type": "stream",
     "text": [
      "Unexpected parameter: since\n",
      "Unexpected parameter: tweet_mode\n",
      "Unexpected parameter: since\n",
      "Unexpected parameter: tweet_mode\n",
      "Unexpected parameter: since\n",
      "Unexpected parameter: tweet_mode\n",
      "Unexpected parameter: since\n",
      "Unexpected parameter: tweet_mode\n",
      "Unexpected parameter: since\n",
      "Unexpected parameter: tweet_mode\n",
      "Unexpected parameter: since\n",
      "Unexpected parameter: tweet_mode\n",
      "Unexpected parameter: since\n",
      "Unexpected parameter: tweet_mode\n",
      "Unexpected parameter: since\n",
      "Unexpected parameter: tweet_mode\n",
      "Unexpected parameter: since\n",
      "Unexpected parameter: tweet_mode\n",
      "Unexpected parameter: since\n",
      "Unexpected parameter: tweet_mode\n",
      "Unexpected parameter: since\n",
      "Unexpected parameter: tweet_mode\n",
      "Unexpected parameter: since\n",
      "Unexpected parameter: tweet_mode\n",
      "Unexpected parameter: since\n",
      "Unexpected parameter: tweet_mode\n",
      "Unexpected parameter: since\n",
      "Unexpected parameter: tweet_mode\n",
      "Unexpected parameter: since\n",
      "Unexpected parameter: tweet_mode\n",
      "Unexpected parameter: since\n",
      "Unexpected parameter: tweet_mode\n",
      "Unexpected parameter: since\n",
      "Unexpected parameter: tweet_mode\n",
      "Unexpected parameter: since\n",
      "Unexpected parameter: tweet_mode\n",
      "Unexpected parameter: since\n",
      "Unexpected parameter: tweet_mode\n",
      "Unexpected parameter: since\n",
      "Unexpected parameter: tweet_mode\n",
      "Unexpected parameter: since\n",
      "Unexpected parameter: tweet_mode\n",
      "Unexpected parameter: since\n",
      "Unexpected parameter: tweet_mode\n",
      "Unexpected parameter: since\n",
      "Unexpected parameter: tweet_mode\n",
      "Unexpected parameter: since\n",
      "Unexpected parameter: tweet_mode\n",
      "Unexpected parameter: since\n",
      "Unexpected parameter: tweet_mode\n",
      "Unexpected parameter: since\n",
      "Unexpected parameter: tweet_mode\n",
      "Unexpected parameter: since\n",
      "Unexpected parameter: tweet_mode\n",
      "Unexpected parameter: since\n",
      "Unexpected parameter: tweet_mode\n",
      "Unexpected parameter: since\n",
      "Unexpected parameter: tweet_mode\n",
      "Unexpected parameter: since\n",
      "Unexpected parameter: tweet_mode\n",
      "Unexpected parameter: since\n",
      "Unexpected parameter: tweet_mode\n",
      "Unexpected parameter: since\n",
      "Unexpected parameter: tweet_mode\n",
      "Unexpected parameter: since\n",
      "Unexpected parameter: tweet_mode\n",
      "Unexpected parameter: since\n",
      "Unexpected parameter: tweet_mode\n",
      "Unexpected parameter: since\n",
      "Unexpected parameter: tweet_mode\n",
      "Unexpected parameter: since\n",
      "Unexpected parameter: tweet_mode\n",
      "Unexpected parameter: since\n",
      "Unexpected parameter: tweet_mode\n",
      "Unexpected parameter: since\n",
      "Unexpected parameter: tweet_mode\n",
      "Unexpected parameter: since\n",
      "Unexpected parameter: tweet_mode\n",
      "Unexpected parameter: since\n",
      "Unexpected parameter: tweet_mode\n",
      "Unexpected parameter: since\n",
      "Unexpected parameter: tweet_mode\n",
      "Unexpected parameter: since\n",
      "Unexpected parameter: tweet_mode\n",
      "Unexpected parameter: since\n",
      "Unexpected parameter: tweet_mode\n",
      "Unexpected parameter: since\n",
      "Unexpected parameter: tweet_mode\n",
      "Unexpected parameter: since\n",
      "Unexpected parameter: tweet_mode\n",
      "Unexpected parameter: since\n",
      "Unexpected parameter: tweet_mode\n",
      "Unexpected parameter: since\n",
      "Unexpected parameter: tweet_mode\n",
      "Unexpected parameter: since\n",
      "Unexpected parameter: tweet_mode\n",
      "Unexpected parameter: since\n",
      "Unexpected parameter: tweet_mode\n",
      "Unexpected parameter: since\n",
      "Unexpected parameter: tweet_mode\n",
      "Unexpected parameter: since\n",
      "Unexpected parameter: tweet_mode\n",
      "Unexpected parameter: since\n",
      "Unexpected parameter: tweet_mode\n",
      "Unexpected parameter: since\n",
      "Unexpected parameter: tweet_mode\n",
      "Unexpected parameter: since\n",
      "Unexpected parameter: tweet_mode\n",
      "Unexpected parameter: since\n",
      "Unexpected parameter: tweet_mode\n",
      "Unexpected parameter: since\n",
      "Unexpected parameter: tweet_mode\n",
      "Unexpected parameter: since\n",
      "Unexpected parameter: tweet_mode\n",
      "Unexpected parameter: since\n",
      "Unexpected parameter: tweet_mode\n",
      "Unexpected parameter: since\n",
      "Unexpected parameter: tweet_mode\n",
      "Unexpected parameter: since\n",
      "Unexpected parameter: tweet_mode\n",
      "Unexpected parameter: since\n",
      "Unexpected parameter: tweet_mode\n",
      "Unexpected parameter: since\n",
      "Unexpected parameter: tweet_mode\n",
      "Unexpected parameter: since\n",
      "Unexpected parameter: tweet_mode\n",
      "Unexpected parameter: since\n",
      "Unexpected parameter: tweet_mode\n",
      "Unexpected parameter: since\n",
      "Unexpected parameter: tweet_mode\n",
      "Unexpected parameter: since\n",
      "Unexpected parameter: tweet_mode\n",
      "Unexpected parameter: since\n",
      "Unexpected parameter: tweet_mode\n",
      "Unexpected parameter: since\n",
      "Unexpected parameter: tweet_mode\n",
      "Unexpected parameter: since\n",
      "Unexpected parameter: tweet_mode\n",
      "Unexpected parameter: since\n",
      "Unexpected parameter: tweet_mode\n",
      "Unexpected parameter: since\n",
      "Unexpected parameter: tweet_mode\n",
      "Unexpected parameter: since\n",
      "Unexpected parameter: tweet_mode\n",
      "Unexpected parameter: since\n",
      "Unexpected parameter: tweet_mode\n",
      "Unexpected parameter: since\n",
      "Unexpected parameter: tweet_mode\n",
      "Unexpected parameter: since\n",
      "Unexpected parameter: tweet_mode\n",
      "Unexpected parameter: since\n",
      "Unexpected parameter: tweet_mode\n",
      "Unexpected parameter: since\n",
      "Unexpected parameter: tweet_mode\n",
      "Unexpected parameter: since\n",
      "Unexpected parameter: tweet_mode\n",
      "Unexpected parameter: since\n",
      "Unexpected parameter: tweet_mode\n",
      "Unexpected parameter: since\n",
      "Unexpected parameter: tweet_mode\n",
      "Unexpected parameter: since\n",
      "Unexpected parameter: tweet_mode\n",
      "Unexpected parameter: since\n",
      "Unexpected parameter: tweet_mode\n",
      "Unexpected parameter: since\n",
      "Unexpected parameter: tweet_mode\n",
      "Unexpected parameter: since\n",
      "Unexpected parameter: tweet_mode\n",
      "Unexpected parameter: since\n",
      "Unexpected parameter: tweet_mode\n",
      "Unexpected parameter: since\n",
      "Unexpected parameter: tweet_mode\n",
      "Unexpected parameter: since\n",
      "Unexpected parameter: tweet_mode\n",
      "Unexpected parameter: since\n",
      "Unexpected parameter: tweet_mode\n",
      "Unexpected parameter: since\n",
      "Unexpected parameter: tweet_mode\n",
      "Unexpected parameter: since\n",
      "Unexpected parameter: tweet_mode\n",
      "Unexpected parameter: since\n",
      "Unexpected parameter: tweet_mode\n",
      "Unexpected parameter: since\n",
      "Unexpected parameter: tweet_mode\n",
      "Unexpected parameter: since\n",
      "Unexpected parameter: tweet_mode\n",
      "Unexpected parameter: since\n",
      "Unexpected parameter: tweet_mode\n",
      "Unexpected parameter: since\n",
      "Unexpected parameter: tweet_mode\n",
      "Unexpected parameter: since\n",
      "Unexpected parameter: tweet_mode\n",
      "Unexpected parameter: since\n",
      "Unexpected parameter: tweet_mode\n",
      "Unexpected parameter: since\n",
      "Unexpected parameter: tweet_mode\n",
      "Unexpected parameter: since\n",
      "Unexpected parameter: tweet_mode\n",
      "Unexpected parameter: since\n",
      "Unexpected parameter: tweet_mode\n",
      "Unexpected parameter: since\n",
      "Unexpected parameter: tweet_mode\n",
      "Unexpected parameter: since\n",
      "Unexpected parameter: tweet_mode\n",
      "Unexpected parameter: since\n",
      "Unexpected parameter: tweet_mode\n",
      "Unexpected parameter: since\n",
      "Unexpected parameter: tweet_mode\n",
      "Unexpected parameter: since\n",
      "Unexpected parameter: tweet_mode\n",
      "Unexpected parameter: since\n",
      "Unexpected parameter: tweet_mode\n",
      "Unexpected parameter: since\n",
      "Unexpected parameter: tweet_mode\n",
      "Unexpected parameter: since\n",
      "Unexpected parameter: tweet_mode\n",
      "Unexpected parameter: since\n",
      "Unexpected parameter: tweet_mode\n",
      "Unexpected parameter: since\n",
      "Unexpected parameter: tweet_mode\n",
      "Unexpected parameter: since\n",
      "Unexpected parameter: tweet_mode\n",
      "Unexpected parameter: since\n",
      "Unexpected parameter: tweet_mode\n",
      "Unexpected parameter: since\n",
      "Unexpected parameter: tweet_mode\n",
      "Unexpected parameter: since\n",
      "Unexpected parameter: tweet_mode\n",
      "Unexpected parameter: since\n",
      "Unexpected parameter: tweet_mode\n",
      "Unexpected parameter: since\n",
      "Unexpected parameter: tweet_mode\n",
      "Unexpected parameter: since\n",
      "Unexpected parameter: tweet_mode\n",
      "Unexpected parameter: since\n",
      "Unexpected parameter: tweet_mode\n",
      "Unexpected parameter: since\n",
      "Unexpected parameter: tweet_mode\n",
      "Unexpected parameter: since\n",
      "Unexpected parameter: tweet_mode\n",
      "Unexpected parameter: since\n",
      "Unexpected parameter: tweet_mode\n",
      "Unexpected parameter: since\n",
      "Unexpected parameter: tweet_mode\n",
      "Unexpected parameter: since\n",
      "Unexpected parameter: tweet_mode\n",
      "Unexpected parameter: since\n",
      "Unexpected parameter: tweet_mode\n",
      "Unexpected parameter: since\n",
      "Unexpected parameter: tweet_mode\n",
      "Unexpected parameter: since\n",
      "Unexpected parameter: tweet_mode\n",
      "Unexpected parameter: since\n",
      "Unexpected parameter: tweet_mode\n",
      "Unexpected parameter: since\n",
      "Unexpected parameter: tweet_mode\n",
      "Unexpected parameter: since\n",
      "Unexpected parameter: tweet_mode\n",
      "Unexpected parameter: since\n",
      "Unexpected parameter: tweet_mode\n",
      "Unexpected parameter: since\n",
      "Unexpected parameter: tweet_mode\n",
      "Unexpected parameter: since\n",
      "Unexpected parameter: tweet_mode\n",
      "Unexpected parameter: since\n",
      "Unexpected parameter: tweet_mode\n",
      "Unexpected parameter: since\n",
      "Unexpected parameter: tweet_mode\n",
      "Unexpected parameter: since\n"
     ]
    },
    {
     "name": "stderr",
     "output_type": "stream",
     "text": [
      "Unexpected parameter: tweet_mode\n",
      "Unexpected parameter: since\n",
      "Unexpected parameter: tweet_mode\n",
      "Unexpected parameter: since\n",
      "Unexpected parameter: tweet_mode\n",
      "Unexpected parameter: since\n",
      "Unexpected parameter: tweet_mode\n",
      "Unexpected parameter: since\n",
      "Unexpected parameter: tweet_mode\n",
      "Unexpected parameter: since\n",
      "Unexpected parameter: tweet_mode\n",
      "Unexpected parameter: since\n",
      "Unexpected parameter: tweet_mode\n",
      "Unexpected parameter: since\n",
      "Unexpected parameter: tweet_mode\n",
      "Unexpected parameter: since\n",
      "Unexpected parameter: tweet_mode\n",
      "Unexpected parameter: since\n",
      "Unexpected parameter: tweet_mode\n",
      "Unexpected parameter: since\n",
      "Unexpected parameter: tweet_mode\n",
      "Unexpected parameter: since\n",
      "Unexpected parameter: tweet_mode\n",
      "Unexpected parameter: since\n",
      "Unexpected parameter: tweet_mode\n",
      "Unexpected parameter: since\n",
      "Unexpected parameter: tweet_mode\n",
      "Unexpected parameter: since\n",
      "Unexpected parameter: tweet_mode\n",
      "Unexpected parameter: since\n",
      "Unexpected parameter: tweet_mode\n",
      "Unexpected parameter: since\n",
      "Unexpected parameter: tweet_mode\n",
      "Unexpected parameter: since\n",
      "Unexpected parameter: tweet_mode\n",
      "Unexpected parameter: since\n",
      "Unexpected parameter: tweet_mode\n",
      "Unexpected parameter: since\n",
      "Unexpected parameter: tweet_mode\n",
      "Unexpected parameter: since\n",
      "Unexpected parameter: tweet_mode\n",
      "Unexpected parameter: since\n",
      "Unexpected parameter: tweet_mode\n",
      "Unexpected parameter: since\n",
      "Unexpected parameter: tweet_mode\n",
      "Unexpected parameter: since\n",
      "Unexpected parameter: tweet_mode\n",
      "Unexpected parameter: since\n",
      "Unexpected parameter: tweet_mode\n",
      "Unexpected parameter: since\n",
      "Unexpected parameter: tweet_mode\n",
      "Unexpected parameter: since\n",
      "Unexpected parameter: tweet_mode\n",
      "Unexpected parameter: since\n",
      "Unexpected parameter: tweet_mode\n",
      "Unexpected parameter: since\n",
      "Unexpected parameter: tweet_mode\n",
      "Unexpected parameter: since\n",
      "Unexpected parameter: tweet_mode\n",
      "Unexpected parameter: since\n",
      "Unexpected parameter: tweet_mode\n",
      "Unexpected parameter: since\n",
      "Unexpected parameter: tweet_mode\n",
      "Unexpected parameter: since\n",
      "Unexpected parameter: tweet_mode\n",
      "Unexpected parameter: since\n",
      "Unexpected parameter: tweet_mode\n"
     ]
    },
    {
     "name": "stdout",
     "output_type": "stream",
     "text": [
      "no. of tweets scraped for run 1 is 2500\n",
      "time take for 1 run to complete is 2.19 mins\n"
     ]
    }
   ],
   "source": [
    "# Initialise these variables:\n",
    "search_words = \"COVID OR covid\"\n",
    "date_since = \"2020-04-01\"\n",
    "numTweets = 2500\n",
    "numRuns = 6 # Call the function scraptweets numRuns = numTweets/300\n",
    "scraptweets(search_words, date_since, numTweets, numRuns)"
   ]
  },
  {
   "cell_type": "code",
   "execution_count": null,
   "metadata": {},
   "outputs": [],
   "source": []
  }
 ],
 "metadata": {
  "kernelspec": {
   "display_name": "Python 3",
   "language": "python",
   "name": "python3"
  },
  "language_info": {
   "codemirror_mode": {
    "name": "ipython",
    "version": 3
   },
   "file_extension": ".py",
   "mimetype": "text/x-python",
   "name": "python",
   "nbconvert_exporter": "python",
   "pygments_lexer": "ipython3",
   "version": "3.8.6"
  },
  "toc": {
   "base_numbering": 1,
   "nav_menu": {},
   "number_sections": true,
   "sideBar": true,
   "skip_h1_title": false,
   "title_cell": "Table of Contents",
   "title_sidebar": "Contents",
   "toc_cell": false,
   "toc_position": {},
   "toc_section_display": true,
   "toc_window_display": false
  }
 },
 "nbformat": 4,
 "nbformat_minor": 4
}
