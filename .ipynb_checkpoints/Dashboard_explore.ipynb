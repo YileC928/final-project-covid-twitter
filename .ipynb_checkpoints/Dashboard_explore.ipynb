{
 "cells": [
  {
   "cell_type": "markdown",
   "metadata": {},
   "source": [
    "# COVID-19 Twitter Final Project Dashboard\n",
    "> This interactive dashboard is one of the three major output components of our MACS 30122 final project. It is based on some of the analysis done by the other two parts, but also adds some extra visualization and story telling elements.\n",
    "\n",
    ">![Coronavirus banner](https://www.dfweyes.com//files/2020/04/coronavirus.jpg)\n",
    "\n",
    "-------------------------------------------------------------------"
   ]
  },
  {
   "cell_type": "code",
   "execution_count": 205,
   "metadata": {},
   "outputs": [],
   "source": [
    "#from __future__ import print_function\n",
    "import pandas as pd\n",
    "import covid_data_analysis as cov\n",
    "import numpy as np\n",
    "\n",
    "# ploting packages\n",
    "import seaborn as sns\n",
    "import matplotlib.pyplot as plt\n",
    "import plotly.graph_objects as go\n",
    "from ipywidgets import interact#, interactive, fixed, interact_manual\n",
    "from IPython.core.display import display, HTML"
   ]
  },
  {
   "cell_type": "code",
   "execution_count": 160,
   "metadata": {
    "scrolled": true
   },
   "outputs": [],
   "source": [
    "tweets_df = pd.read_csv(\"tweet.csv\")\n",
    "tweets_df = tweets_df.drop(columns=tweets_df.columns[0])\n",
    "covid_us_df = pd.read_csv(\"covid-data-US.csv\")\n",
    "covid_state_df = pd.read_csv(\"covid-data-by-state.csv\")\n",
    "covid_state_df = cov.clean_data(covid_state_df)\n",
    "\n",
    "def merge_dfs(tweets_df, covid_us_df, covid_state_df):\n",
    "\n",
    "    tweets_df.fillna(0, inplace = True)\n",
    "    covid_us_df.fillna(0, inplace = True)\n",
    "    covid_state_df.fillna(0, inplace = True)\n",
    "    merged_df = pd.merge(left = tweets_df, right = covid_us_df, on = 'date', how = 'outer')\n",
    "    merged_df = pd.merge(left = merged_df, right = covid_state_df, on = 'date', how = 'outer')\n",
    "\n",
    "    return merged_df"
   ]
  },
  {
   "cell_type": "code",
   "execution_count": 315,
   "metadata": {
    "scrolled": true
   },
   "outputs": [],
   "source": [
    "merged_df = merge_dfs(tweets_df, covid_us_df, covid_state_df)\n",
    "pd.isna(merged_df).sum()\n",
    "pd.isna(merged_df)\n",
    "merged_df.fillna(\"NA\", inplace = True)\n",
    "#merged_df.head()"
   ]
  },
  {
   "cell_type": "code",
   "execution_count": 288,
   "metadata": {
    "scrolled": true
   },
   "outputs": [],
   "source": [
    "def get_df_within_period(df, begin, end):\n",
    "    df = df[df.date >= begin]\n",
    "    df = df[df.date <= end]\n",
    "    return  df"
   ]
  },
  {
   "cell_type": "markdown",
   "metadata": {},
   "source": [
    "### State-level COVID numbers and Tweets:\n",
    "\n",
    "\n",
    "Users can identify an `US state` and a given `date` to see the State-level COVID number and tweets from the CDC on that date.\n",
    "\n",
    "Inputs:\n",
    "- quoted full name of an US state, with the first letter capitalized. `E.g., \"Alaska\"`\n",
    "- date of standard date format: `year-month-day`, ranging from 2020-03-10 to 2021-02-21"
   ]
  },
  {
   "cell_type": "code",
   "execution_count": 314,
   "metadata": {
    "scrolled": false
   },
   "outputs": [
    {
     "data": {
      "application/vnd.jupyter.widget-view+json": {
       "model_id": "79442cd3968548fb90ad30c3561224db",
       "version_major": 2,
       "version_minor": 0
      },
      "text/plain": [
       "interactive(children=(Text(value='Alaska', description='state'), Text(value='2021-02-19', description='date'),…"
      ]
     },
     "metadata": {},
     "output_type": "display_data"
    }
   ],
   "source": [
    "#covid_state_df[covid_state_df.province_state == \"Alaska\"][covid_state_df.date == \"2020-04-20\"]\n",
    "\n",
    "def plot_cdc_tweets(date):\n",
    "    tweet = merged_df[merged_df.date == date].tweet\n",
    "    num_t = 0\n",
    "    t_dedup = set()\n",
    "    for t in tweet:\n",
    "        if t != \"NA\" and t not in t_dedup:\n",
    "            num_t +=1\n",
    "            t_dedup.add(t)\n",
    "            display(HTML(\"<div style = 'background-color: #504e4e; padding: 30px '>\" +\n",
    "                         \"<span style='color: red; font-size:20px;'> CDC Tweet \" + str(num_t) + \":\" +\"</span>\" +\n",
    "                         \"<span style='color: #fff; font-size:15px;'>\" + str(t) +\"</span>\" +\n",
    "                         \"</div>\"))\n",
    "    if num_t == 0:\n",
    "        display(HTML(\"<div style = 'background-color: #504e4e; padding: 30px '>\" +\n",
    "                     \"<span style='color: #fff; font-size:15px;'> There are no tweets from CDC on this day\" + \"</span>\" +\n",
    "                     \"</div>\"))\n",
    "\n",
    "def plot_cov_num_tweet(state, date):\n",
    "    df_dt = merged_df[merged_df.date == date]\n",
    "    df = df_dt[df_dt.province_state == state]\n",
    "    confirm = df.confirmed_state.iloc[0]\n",
    "    deaths = df.deaths_state.iloc[0]\n",
    "    display(HTML(\"<div style = 'background-color: #fff; padding: 20px '>\" +\n",
    "                     \"<span style='color: black; font-size:22px;'> Confirmed number:\" + str(confirm) + \"</span>\" +\n",
    "                     \"<span style='color: red; font-size:22px;'> Deaths number:\" + str(deaths) + \"</span>\" +\n",
    "                     \"</div>\"))\n",
    "\n",
    "    plot_cdc_tweets(date)\n",
    "    \n",
    "#get_tweets(\"2021-02-19\")\n",
    "interact(plot_cov_num_tweet, state = \"Alaska\", date = \"2021-02-19\")\n",
    "\n",
    "state = \"Alaska\"\n",
    "date = \"2021-02-19\"\n",
    "df_dt = merged_df[merged_df.date == date]\n",
    "df = df_dt[df_dt.province_state == state]\n"
   ]
  },
  {
   "cell_type": "markdown",
   "metadata": {},
   "source": [
    "-------------\n",
    "\n",
    "### COVID state map within customized period\n",
    "\n",
    "Users can input `start` and `end` date to identify a period of their interest, to explore the COVID trends of top `n` states by confirmed/deaths numbers. Update of the plots may take a while.\n",
    "\n",
    "Inputs:\n",
    "- begin and end date of standard date format: `year-month-day`, within the range from 2020-03-10 to 2021-02-21"
   ]
  },
  {
   "cell_type": "code",
   "execution_count": 293,
   "metadata": {
    "scrolled": true
   },
   "outputs": [
    {
     "data": {
      "application/vnd.jupyter.widget-view+json": {
       "model_id": "7e13ced9ccee4e7e9d4817341abf78ea",
       "version_major": 2,
       "version_minor": 0
      },
      "text/plain": [
       "interactive(children=(Text(value='2020-03-10', description='begin'), Text(value='2021-02-21', description='end…"
      ]
     },
     "metadata": {},
     "output_type": "display_data"
    },
    {
     "data": {
      "text/plain": [
       "<function __main__.plot_state_map(begin, end)>"
      ]
     },
     "execution_count": 293,
     "metadata": {},
     "output_type": "execute_result"
    }
   ],
   "source": [
    "def plot_state_map(begin, end):\n",
    "    df = get_df_within_period(covid_state_df, begin, end)\n",
    "    cov.draw_state_heatmap(df, \"confirmed_state\")\n",
    "    cov.draw_state_heatmap(df, \"deaths_state\")\n",
    "\n",
    "interact(plot_state_map, begin = \"2020-03-10\", end = \"2021-02-21\")\n",
    "\n",
    "#cov.draw_state_heatmap(covid_state_df, var='confirmed_state')"
   ]
  },
  {
   "cell_type": "markdown",
   "metadata": {},
   "source": [
    "-------------\n",
    "\n",
    "### Top hitted states within customized period\n",
    "\n",
    "Users can input `start` and `end` date to identify a period of their interest, to explore the COVID trends of top `n` states by confirmed/deaths numbers. Update of the plots may take a while.\n",
    "\n",
    "Inputs:\n",
    "- date of standard date format: `year-month-day`, ranging from 2020-03-10 to 2021-02-21\n",
    "- integer n between `1 to 14`"
   ]
  },
  {
   "cell_type": "code",
   "execution_count": 316,
   "metadata": {
    "scrolled": true
   },
   "outputs": [
    {
     "data": {
      "application/vnd.jupyter.widget-view+json": {
       "model_id": "d2ca794e091046cc8cfedc78768986c0",
       "version_major": 2,
       "version_minor": 0
      },
      "text/plain": [
       "interactive(children=(Text(value='2020-03-10', description='begin'), Text(value='2021-02-21', description='end…"
      ]
     },
     "metadata": {},
     "output_type": "display_data"
    },
    {
     "data": {
      "text/plain": [
       "<function __main__.plot_top_hitted_state(begin, end, n)>"
      ]
     },
     "execution_count": 316,
     "metadata": {},
     "output_type": "execute_result"
    }
   ],
   "source": [
    "def plot_top_hitted_state(begin, end, n):\n",
    "    df = get_df_within_period(covid_state_df, begin, end)\n",
    "#    top_df = find_top_n_hardest_hit_state(df, n)\n",
    "    cov.draw_top_n_hardest_hit_state(df, \"confirmed_state\", n)\n",
    "    cov.draw_top_n_hardest_hit_state(df, \"deaths_state\", n)\n",
    "#top_df#.style.apply(highlight_col, axis=None)\n",
    "\n",
    "interact(plot_top_hitted_state, begin = \"2020-03-10\", end = \"2021-02-21\", n = 5)\n"
   ]
  },
  {
   "cell_type": "code",
   "execution_count": null,
   "metadata": {},
   "outputs": [],
   "source": []
  }
 ],
 "metadata": {
  "kernelspec": {
   "display_name": "Python 3",
   "language": "python",
   "name": "python3"
  },
  "language_info": {
   "codemirror_mode": {
    "name": "ipython",
    "version": 3
   },
   "file_extension": ".py",
   "mimetype": "text/x-python",
   "name": "python",
   "nbconvert_exporter": "python",
   "pygments_lexer": "ipython3",
   "version": "3.7.1"
  }
 },
 "nbformat": 4,
 "nbformat_minor": 2
}
