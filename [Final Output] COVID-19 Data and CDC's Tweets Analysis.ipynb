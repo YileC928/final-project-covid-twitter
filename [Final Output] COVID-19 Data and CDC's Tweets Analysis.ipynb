{
 "cells": [
  {
   "cell_type": "markdown",
   "metadata": {},
   "source": [
    "# MACS30122 Final Project - COVID-19 Data and CDC's Tweets Analysis\n",
    "\n",
    "\n",
    "**This notebook presents the output of the final project for course MACS 30122.**\n",
    "\n",
    "**GitHub Repository Link**: https://github.com/cs-ssa-w21/final-project-covid-twitter\n",
    "\n",
    "**Team name**: covid-twitter\n",
    "\n",
    "**Team member**: Jinfei Zhu, Xi Cheng, Boya Fu, Yile Chen\n",
    "\n",
    "**Goals**: 2020 is all about Covid-19. This unprecedented global pandemic has changed everyone's daily normal and we are willing to find out what CDC news relates to the change of the number of covid infected persons and death. In the meantime, in the United States, many governors like Andrew Cuomo of New York State will give covid administration on Twitter. We would also collect data from several states seriously influenced by Covid. If time permits, we would collect data from all states' governors. We would build a web interaction page (probably using flask) that when users input a time period and state name, they can see the covid number and CDC & governors policy guidelines and covid-related policies.\n",
    "\n",
    "Our analysis contains five parts:\n",
    "- Data Collection\n",
    "- COVID Data Analysis\n",
    "- CDC Tweets Content Analysis\n",
    "- Record Linkage\n",
    "- User Interface to input `date` or `state name` and output Related Tweets"
   ]
  },
  {
   "cell_type": "markdown",
   "metadata": {},
   "source": [
    "# Data Collection"
   ]
  },
  {
   "cell_type": "markdown",
   "metadata": {},
   "source": [
    "We have two sources of data: Twitter data and COVID data.\n",
    "\n",
    "**Twitter Data:**\n",
    "\n",
    "[CDC Twitter](htts://twitter.com/CDCgov)\n",
    "\n",
    "We use Twint Package to scrape Twitter data. Codes are in `scrape_twitter_with_Twint.py`\n",
    "\n",
    "**COVID Data**\n",
    "\n",
    "We collect COVID data with SQL language at [Google Cloud Bigquery Page](https://console.cloud.google.com/marketplace/product/johnshopkins/covid19_jhu_global_case?project=covid-twitter-305804&folder=) SQL codes are in `covid-big-query-by-state.sql` and `covid-big-query-by-state.sql`\n",
    "\n",
    "Here is the documentation of the Data: [JHU CSSEGISand Data](https://github.com/CSSEGISandData/COVID-19/blob/master/README.md)\n",
    "\n",
    "Future datasets: 50 Governors’ Twitter contents"
   ]
  },
  {
   "cell_type": "markdown",
   "metadata": {},
   "source": [
    "# COVID Data Analysis"
   ]
  },
  {
   "cell_type": "code",
   "execution_count": 6,
   "metadata": {},
   "outputs": [
    {
     "name": "stdout",
     "output_type": "stream",
     "text": [
      "The autoreload extension is already loaded. To reload it, use:\n",
      "  %reload_ext autoreload\n"
     ]
    }
   ],
   "source": [
    "%load_ext autoreload\n",
    "%autoreload 2"
   ]
  },
  {
   "cell_type": "code",
   "execution_count": 7,
   "metadata": {},
   "outputs": [],
   "source": [
    "from covid_data_analysis import *# functions written by Jinfei\n",
    "\n",
    "import pandas as pd\n",
    "import numpy as np\n",
    "\n",
    "# ploting packages\n",
    "import seaborn as sns\n",
    "import matplotlib.pyplot as plt\n",
    "import plotly.graph_objects as go"
   ]
  },
  {
   "cell_type": "markdown",
   "metadata": {},
   "source": [
    "## Import and Cleam Data"
   ]
  },
  {
   "cell_type": "code",
   "execution_count": 4,
   "metadata": {},
   "outputs": [
    {
     "name": "stderr",
     "output_type": "stream",
     "text": [
      "D:\\UChicago-2021-Winter\\CAPP2\\final-project-covid-twitter\\covid_data_analysis.py:94: SettingWithCopyWarning: \n",
      "A value is trying to be set on a copy of a slice from a DataFrame.\n",
      "Try using .loc[row_indexer,col_indexer] = value instead\n",
      "\n",
      "See the caveats in the documentation: https://pandas.pydata.org/pandas-docs/stable/user_guide/indexing.html#returning-a-view-versus-a-copy\n",
      "  df['date'] = replaced_series\n"
     ]
    }
   ],
   "source": [
    "# Read and Clean Data\n",
    "covid_by_state = clean_data(pd.read_csv('data//covid-data-by-state-cleaned.csv'))\n",
    "covid_US = clean_data(pd.read_csv('data//covid-data-US.csv'))"
   ]
  },
  {
   "cell_type": "code",
   "execution_count": null,
   "metadata": {},
   "outputs": [],
   "source": []
  }
 ],
 "metadata": {
  "kernelspec": {
   "display_name": "Python 3",
   "language": "python",
   "name": "python3"
  },
  "language_info": {
   "codemirror_mode": {
    "name": "ipython",
    "version": 3
   },
   "file_extension": ".py",
   "mimetype": "text/x-python",
   "name": "python",
   "nbconvert_exporter": "python",
   "pygments_lexer": "ipython3",
   "version": "3.8.8"
  },
  "toc": {
   "base_numbering": 1,
   "nav_menu": {},
   "number_sections": true,
   "sideBar": true,
   "skip_h1_title": false,
   "title_cell": "Table of Contents",
   "title_sidebar": "Contents",
   "toc_cell": false,
   "toc_position": {},
   "toc_section_display": true,
   "toc_window_display": false
  }
 },
 "nbformat": 4,
 "nbformat_minor": 4
}
